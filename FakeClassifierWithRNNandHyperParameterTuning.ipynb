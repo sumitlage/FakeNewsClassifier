{
 "cells": [
  {
   "cell_type": "code",
   "execution_count": 1,
   "metadata": {},
   "outputs": [],
   "source": [
    "#### skip warning if any\n",
    "import warnings\n",
    "warnings.filterwarnings('ignore')"
   ]
  },
  {
   "cell_type": "code",
   "execution_count": 2,
   "metadata": {},
   "outputs": [],
   "source": [
    "#### import all required lib\n",
    "\n",
    "import numpy as np\n",
    "import pandas as pd\n",
    "import matplotlib.pyplot as plt\n",
    "import seaborn as sns\n",
    "%matplotlib inline"
   ]
  },
  {
   "cell_type": "code",
   "execution_count": null,
   "metadata": {},
   "outputs": [],
   "source": []
  },
  {
   "cell_type": "code",
   "execution_count": 3,
   "metadata": {},
   "outputs": [],
   "source": [
    "df_train = pd.read_csv('train.csv')\n",
    "df_test = pd.read_csv('test.csv')"
   ]
  },
  {
   "cell_type": "code",
   "execution_count": 4,
   "metadata": {},
   "outputs": [
    {
     "data": {
      "text/html": [
       "<div>\n",
       "<style scoped>\n",
       "    .dataframe tbody tr th:only-of-type {\n",
       "        vertical-align: middle;\n",
       "    }\n",
       "\n",
       "    .dataframe tbody tr th {\n",
       "        vertical-align: top;\n",
       "    }\n",
       "\n",
       "    .dataframe thead th {\n",
       "        text-align: right;\n",
       "    }\n",
       "</style>\n",
       "<table border=\"1\" class=\"dataframe\">\n",
       "  <thead>\n",
       "    <tr style=\"text-align: right;\">\n",
       "      <th></th>\n",
       "      <th>id</th>\n",
       "      <th>title</th>\n",
       "      <th>author</th>\n",
       "      <th>text</th>\n",
       "      <th>label</th>\n",
       "    </tr>\n",
       "  </thead>\n",
       "  <tbody>\n",
       "    <tr>\n",
       "      <th>0</th>\n",
       "      <td>0</td>\n",
       "      <td>House Dem Aide: We Didn’t Even See Comey’s Let...</td>\n",
       "      <td>Darrell Lucus</td>\n",
       "      <td>House Dem Aide: We Didn’t Even See Comey’s Let...</td>\n",
       "      <td>1</td>\n",
       "    </tr>\n",
       "    <tr>\n",
       "      <th>1</th>\n",
       "      <td>1</td>\n",
       "      <td>FLYNN: Hillary Clinton, Big Woman on Campus - ...</td>\n",
       "      <td>Daniel J. Flynn</td>\n",
       "      <td>Ever get the feeling your life circles the rou...</td>\n",
       "      <td>0</td>\n",
       "    </tr>\n",
       "  </tbody>\n",
       "</table>\n",
       "</div>"
      ],
      "text/plain": [
       "   id                                              title           author  \\\n",
       "0   0  House Dem Aide: We Didn’t Even See Comey’s Let...    Darrell Lucus   \n",
       "1   1  FLYNN: Hillary Clinton, Big Woman on Campus - ...  Daniel J. Flynn   \n",
       "\n",
       "                                                text  label  \n",
       "0  House Dem Aide: We Didn’t Even See Comey’s Let...      1  \n",
       "1  Ever get the feeling your life circles the rou...      0  "
      ]
     },
     "execution_count": 4,
     "metadata": {},
     "output_type": "execute_result"
    }
   ],
   "source": [
    "df_train.head(2)"
   ]
  },
  {
   "cell_type": "code",
   "execution_count": 5,
   "metadata": {},
   "outputs": [
    {
     "data": {
      "text/html": [
       "<div>\n",
       "<style scoped>\n",
       "    .dataframe tbody tr th:only-of-type {\n",
       "        vertical-align: middle;\n",
       "    }\n",
       "\n",
       "    .dataframe tbody tr th {\n",
       "        vertical-align: top;\n",
       "    }\n",
       "\n",
       "    .dataframe thead th {\n",
       "        text-align: right;\n",
       "    }\n",
       "</style>\n",
       "<table border=\"1\" class=\"dataframe\">\n",
       "  <thead>\n",
       "    <tr style=\"text-align: right;\">\n",
       "      <th></th>\n",
       "      <th>id</th>\n",
       "      <th>title</th>\n",
       "      <th>author</th>\n",
       "      <th>text</th>\n",
       "    </tr>\n",
       "  </thead>\n",
       "  <tbody>\n",
       "    <tr>\n",
       "      <th>0</th>\n",
       "      <td>20800</td>\n",
       "      <td>Specter of Trump Loosens Tongues, if Not Purse...</td>\n",
       "      <td>David Streitfeld</td>\n",
       "      <td>PALO ALTO, Calif.  —   After years of scorning...</td>\n",
       "    </tr>\n",
       "    <tr>\n",
       "      <th>1</th>\n",
       "      <td>20801</td>\n",
       "      <td>Russian warships ready to strike terrorists ne...</td>\n",
       "      <td>NaN</td>\n",
       "      <td>Russian warships ready to strike terrorists ne...</td>\n",
       "    </tr>\n",
       "  </tbody>\n",
       "</table>\n",
       "</div>"
      ],
      "text/plain": [
       "      id                                              title            author  \\\n",
       "0  20800  Specter of Trump Loosens Tongues, if Not Purse...  David Streitfeld   \n",
       "1  20801  Russian warships ready to strike terrorists ne...               NaN   \n",
       "\n",
       "                                                text  \n",
       "0  PALO ALTO, Calif.  —   After years of scorning...  \n",
       "1  Russian warships ready to strike terrorists ne...  "
      ]
     },
     "execution_count": 5,
     "metadata": {},
     "output_type": "execute_result"
    }
   ],
   "source": [
    "df_test.head(2)"
   ]
  },
  {
   "cell_type": "code",
   "execution_count": 6,
   "metadata": {},
   "outputs": [
    {
     "data": {
      "text/plain": [
       "id           0\n",
       "title      558\n",
       "author    1957\n",
       "text        39\n",
       "label        0\n",
       "dtype: int64"
      ]
     },
     "execution_count": 6,
     "metadata": {},
     "output_type": "execute_result"
    }
   ],
   "source": [
    "df_train.isnull().sum()"
   ]
  },
  {
   "cell_type": "code",
   "execution_count": 7,
   "metadata": {},
   "outputs": [
    {
     "data": {
      "text/plain": [
       "1    558\n",
       "Name: label, dtype: int64"
      ]
     },
     "execution_count": 7,
     "metadata": {},
     "output_type": "execute_result"
    }
   ],
   "source": [
    "# we can find that only fake news are having text as null, so we can drop respective data with other column containing null values \n",
    "df_train[df_train.isnull()['title']==True]['label'].value_counts()"
   ]
  },
  {
   "cell_type": "code",
   "execution_count": 8,
   "metadata": {},
   "outputs": [],
   "source": [
    "df_train['title'].fillna('Fake Fake Fake',inplace=True)"
   ]
  },
  {
   "cell_type": "code",
   "execution_count": 9,
   "metadata": {},
   "outputs": [
    {
     "data": {
      "text/plain": [
       "id           0\n",
       "title        0\n",
       "author    1957\n",
       "text        39\n",
       "label        0\n",
       "dtype: int64"
      ]
     },
     "execution_count": 9,
     "metadata": {},
     "output_type": "execute_result"
    }
   ],
   "source": [
    "df_train.isnull().sum()"
   ]
  },
  {
   "cell_type": "code",
   "execution_count": 10,
   "metadata": {},
   "outputs": [
    {
     "data": {
      "text/plain": [
       "558"
      ]
     },
     "execution_count": 10,
     "metadata": {},
     "output_type": "execute_result"
    }
   ],
   "source": [
    "len(df_train[df_train['title']=='Fake Fake Fake'])"
   ]
  },
  {
   "cell_type": "code",
   "execution_count": 11,
   "metadata": {},
   "outputs": [
    {
     "data": {
      "text/plain": [
       "id          0\n",
       "title     122\n",
       "author    503\n",
       "text        7\n",
       "dtype: int64"
      ]
     },
     "execution_count": 11,
     "metadata": {},
     "output_type": "execute_result"
    }
   ],
   "source": [
    "df_test.isnull().sum()"
   ]
  },
  {
   "cell_type": "code",
   "execution_count": 12,
   "metadata": {},
   "outputs": [],
   "source": [
    "df_test['title'].fillna('Fake Fake Fake',inplace=True)"
   ]
  },
  {
   "cell_type": "code",
   "execution_count": 13,
   "metadata": {},
   "outputs": [
    {
     "data": {
      "text/plain": [
       "id          0\n",
       "title       0\n",
       "author    503\n",
       "text        7\n",
       "dtype: int64"
      ]
     },
     "execution_count": 13,
     "metadata": {},
     "output_type": "execute_result"
    }
   ],
   "source": [
    "df_test.isnull().sum()"
   ]
  },
  {
   "cell_type": "code",
   "execution_count": 14,
   "metadata": {},
   "outputs": [
    {
     "data": {
      "text/plain": [
       "122"
      ]
     },
     "execution_count": 14,
     "metadata": {},
     "output_type": "execute_result"
    }
   ],
   "source": [
    "len(df_test[df_test['title']=='Fake Fake Fake'])"
   ]
  },
  {
   "cell_type": "code",
   "execution_count": 15,
   "metadata": {},
   "outputs": [
    {
     "data": {
      "text/plain": [
       "<matplotlib.axes._subplots.AxesSubplot at 0x1aeee743388>"
      ]
     },
     "execution_count": 15,
     "metadata": {},
     "output_type": "execute_result"
    },
    {
     "data": {
      "image/png": "[encoded data removed]",
      "text/plain": [
       "<Figure size 432x288 with 1 Axes>"
      ]
     },
     "metadata": {
      "needs_background": "light"
     },
     "output_type": "display_data"
    }
   ],
   "source": [
    "##### we will try to visualize some distribution, so using countplot data is not imbalanced\n",
    "sns.countplot(df_train['label'])"
   ]
  },
  {
   "cell_type": "code",
   "execution_count": 16,
   "metadata": {},
   "outputs": [],
   "source": [
    "#### import NLP specific data pre-processing libraries\n",
    "from nltk.stem.porter import PorterStemmer\n",
    "from nltk.corpus import stopwords\n",
    "import string\n",
    "import re"
   ]
  },
  {
   "cell_type": "code",
   "execution_count": 17,
   "metadata": {},
   "outputs": [],
   "source": [
    "#### function for cleaning text like remove punctuations, digits and other than alphabet word\n",
    "def text_analyzer(messages):\n",
    "    porter = PorterStemmer()\n",
    "    clean_corpus = []\n",
    "    \n",
    "    for i in range(len(messages)):\n",
    "        \n",
    "        text = messages.iloc[i]\n",
    "        clean_text = re.sub('[^a-zA-Z]',' ',text)\n",
    "        \n",
    "        clean_text = clean_text.lower()\n",
    "        clean_text = clean_text.split()\n",
    "        \n",
    "        clean_text = [porter.stem(word) for word in clean_text if word not in stopwords.words('english')]\n",
    "        clean_text = ' '.join(clean_text)\n",
    "        \n",
    "        clean_corpus.append(clean_text)\n",
    "        \n",
    "    return clean_corpus\n",
    "    "
   ]
  },
  {
   "cell_type": "code",
   "execution_count": 18,
   "metadata": {},
   "outputs": [
    {
     "name": "stdout",
     "output_type": "stream",
     "text": [
      "20800\n"
     ]
    }
   ],
   "source": [
    "print(len(df_train))\n"
   ]
  },
  {
   "cell_type": "code",
   "execution_count": 19,
   "metadata": {},
   "outputs": [],
   "source": [
    "train_clean_messages = text_analyzer(df_train['title'])"
   ]
  },
  {
   "cell_type": "code",
   "execution_count": 20,
   "metadata": {},
   "outputs": [
    {
     "data": {
      "text/plain": [
       "['hous dem aid even see comey letter jason chaffetz tweet',\n",
       " 'flynn hillari clinton big woman campu breitbart',\n",
       " 'truth might get fire',\n",
       " 'civilian kill singl us airstrik identifi',\n",
       " 'iranian woman jail fiction unpublish stori woman stone death adulteri',\n",
       " 'jacki mason hollywood would love trump bomb north korea lack tran bathroom exclus video breitbart',\n",
       " 'life life luxuri elton john favorit shark pictur stare long transcontinent flight',\n",
       " 'beno hamon win french socialist parti presidenti nomin new york time',\n",
       " 'excerpt draft script donald trump q ampa black church pastor new york time',\n",
       " 'back channel plan ukrain russia courtesi trump associ new york time']"
      ]
     },
     "execution_count": 20,
     "metadata": {},
     "output_type": "execute_result"
    }
   ],
   "source": [
    "train_clean_messages[:10]"
   ]
  },
  {
   "cell_type": "code",
   "execution_count": 21,
   "metadata": {},
   "outputs": [],
   "source": [
    "#### we will work on Word embedding now\n",
    "#### declare variable vocabulary size\n",
    "voc_size = 5000"
   ]
  },
  {
   "cell_type": "code",
   "execution_count": 22,
   "metadata": {},
   "outputs": [
    {
     "name": "stdout",
     "output_type": "stream",
     "text": [
      "Max Sentence lenght in training corpus is 47\n"
     ]
    }
   ],
   "source": [
    "max_len = 0\n",
    "for msg in train_clean_messages:\n",
    "    msg_len = len(msg.split())\n",
    "    if msg_len > max_len:\n",
    "        max_len=msg_len\n",
    "\n",
    "print('Max Sentence lenght in training corpus is',max_len)"
   ]
  },
  {
   "cell_type": "code",
   "execution_count": 24,
   "metadata": {},
   "outputs": [],
   "source": [
    "# so we will set sentence lenght to 40 as in testing corpus max sentence lenght is 27\n",
    "sent_len=40\n",
    "# we will set dimention as 40\n",
    "dim=40 "
   ]
  },
  {
   "cell_type": "code",
   "execution_count": 25,
   "metadata": {},
   "outputs": [
    {
     "name": "stderr",
     "output_type": "stream",
     "text": [
      "Using TensorFlow backend.\n"
     ]
    }
   ],
   "source": [
    "#### we will import some packages which are required for one hot representation\n",
    "from keras.preprocessing.sequence import pad_sequences\n",
    "from keras.preprocessing.text import one_hot"
   ]
  },
  {
   "cell_type": "code",
   "execution_count": 26,
   "metadata": {},
   "outputs": [],
   "source": [
    "def get_embedded_corpus(vocsize,sentlen,message):\n",
    "    try:\n",
    "        one_hot_corpus = [one_hot(word,vocsize) for word in message]\n",
    "        padded_corpus = pad_sequences(one_hot_corpus,padding='pre',maxlen=sentlen)\n",
    "    except e:\n",
    "        print('exception is',e)\n",
    "    finally:\n",
    "        return padded_corpus"
   ]
  },
  {
   "cell_type": "code",
   "execution_count": 27,
   "metadata": {},
   "outputs": [],
   "source": [
    "cleaned_word_corpus=get_embedded_corpus(voc_size,sent_len,train_clean_messages)"
   ]
  },
  {
   "cell_type": "code",
   "execution_count": 28,
   "metadata": {},
   "outputs": [
    {
     "data": {
      "text/plain": [
       "20800"
      ]
     },
     "execution_count": 28,
     "metadata": {},
     "output_type": "execute_result"
    }
   ],
   "source": [
    "len(cleaned_word_corpus)"
   ]
  },
  {
   "cell_type": "code",
   "execution_count": 29,
   "metadata": {},
   "outputs": [
    {
     "data": {
      "text/plain": [
       "array([[   0,    0,    0,    0,    0,    0,    0,    0,    0,    0,    0,\n",
       "           0,    0,    0,    0,    0,    0,    0,    0,    0,    0,    0,\n",
       "           0,    0,    0,    0,    0,    0,    0,    0, 2782, 4335, 3864,\n",
       "        1359,  485, 2665,  957, 1269, 3091,  895],\n",
       "       [   0,    0,    0,    0,    0,    0,    0,    0,    0,    0,    0,\n",
       "           0,    0,    0,    0,    0,    0,    0,    0,    0,    0,    0,\n",
       "           0,    0,    0,    0,    0,    0,    0,    0,    0,    0,    0,\n",
       "        2931, 1784,  952,  345, 1310, 1983, 4333]])"
      ]
     },
     "execution_count": 29,
     "metadata": {},
     "output_type": "execute_result"
    }
   ],
   "source": [
    "cleaned_word_corpus[:2]"
   ]
  },
  {
   "cell_type": "code",
   "execution_count": 30,
   "metadata": {},
   "outputs": [],
   "source": [
    "#### now we will create neural network for text classification\n",
    "#### import required lib for the same\n",
    "from keras.models import Sequential\n",
    "from keras.layers import Embedding,LSTM,Dense,Dropout"
   ]
  },
  {
   "cell_type": "code",
   "execution_count": 31,
   "metadata": {},
   "outputs": [],
   "source": [
    "# import models for hyper parameter tuning\n",
    "from keras.wrappers.scikit_learn import KerasClassifier\n",
    "from sklearn.model_selection import GridSearchCV\n",
    "\n",
    "def create_model(layers):\n",
    "    model = Sequential()\n",
    "    \n",
    "    for i,nodes in enumerate(layers):\n",
    "        if i==0:\n",
    "            model.add(Embedding(voc_size,dim,input_length=sent_len))\n",
    "            model.add(Dropout(0.2))\n",
    "            model.add(LSTM(nodes))       \n",
    "            model.add(Dropout(0.2))\n",
    "        elif i==1:\n",
    "            model.add(LSTM(nodes))       \n",
    "            model.add(Dropout(0.2))\n",
    "        else:\n",
    "            model.add(Dense(nodes,activation='relu'))\n",
    "            model.add(Dropout(0.2))\n",
    "\n",
    "\n",
    "    model.add(Dense(1,activation='sigmoid'))\n",
    "\n",
    "    model.compile(loss='binary_crossentropy',optimizer='adam',metrics=['accuracy'])\n",
    "    \n",
    "    return model"
   ]
  },
  {
   "cell_type": "code",
   "execution_count": 32,
   "metadata": {},
   "outputs": [
    {
     "name": "stdout",
     "output_type": "stream",
     "text": [
      "Shape of embedded corpus (20800, 40)\n",
      "Type of embedded corpus <class 'numpy.ndarray'>\n"
     ]
    }
   ],
   "source": [
    "print('Shape of embedded corpus',cleaned_word_corpus.shape)\n",
    "print('Type of embedded corpus',type(cleaned_word_corpus))"
   ]
  },
  {
   "cell_type": "code",
   "execution_count": 33,
   "metadata": {},
   "outputs": [],
   "source": [
    "X=cleaned_word_corpus\n",
    "y=df_train['label']"
   ]
  },
  {
   "cell_type": "code",
   "execution_count": 34,
   "metadata": {},
   "outputs": [
    {
     "name": "stdout",
     "output_type": "stream",
     "text": [
      "Shape of label (20800,)\n",
      "Type of label <class 'pandas.core.series.Series'>\n"
     ]
    }
   ],
   "source": [
    "print('Shape of label',y.shape)\n",
    "print('Type of label',type(y))"
   ]
  },
  {
   "cell_type": "code",
   "execution_count": 35,
   "metadata": {},
   "outputs": [
    {
     "name": "stdout",
     "output_type": "stream",
     "text": [
      "[1 0 1 1 1]\n",
      "Type of label <class 'numpy.ndarray'>\n"
     ]
    }
   ],
   "source": [
    "y = np.array(y)\n",
    "print(y[:5])\n",
    "print('Type of label',type(y))"
   ]
  },
  {
   "cell_type": "code",
   "execution_count": 36,
   "metadata": {},
   "outputs": [],
   "source": [
    "#### we will now train and fit the model\n",
    "from sklearn.model_selection import train_test_split\n",
    "X_train, X_test, y_train, y_test = train_test_split(X,y,test_size=0.33,random_state=42)"
   ]
  },
  {
   "cell_type": "code",
   "execution_count": 37,
   "metadata": {},
   "outputs": [
    {
     "name": "stdout",
     "output_type": "stream",
     "text": [
      "WARNING:tensorflow:From C:\\Users\\slage\\anaconda3\\lib\\site-packages\\tensorflow\\python\\ops\\nn_impl.py:180: add_dispatch_support.<locals>.wrapper (from tensorflow.python.ops.array_ops) is deprecated and will be removed in a future version.\n",
      "Instructions for updating:\n",
      "Use tf.where in 2.0, which has the same broadcast rule as np.where\n",
      "WARNING:tensorflow:From C:\\Users\\slage\\anaconda3\\lib\\site-packages\\keras\\backend\\tensorflow_backend.py:422: The name tf.global_variables is deprecated. Please use tf.compat.v1.global_variables instead.\n",
      "\n",
      "Epoch 1/10\n",
      "16640/16640 [==============================] - 16s 989us/step - loss: 0.4077 - accuracy: 0.8263\n",
      "Epoch 2/10\n",
      "16640/16640 [==============================] - 15s 902us/step - loss: 0.1586 - accuracy: 0.9386s -\n",
      "Epoch 3/10\n",
      "16640/16640 [==============================] - 10s 622us/step - loss: 0.1156 - accuracy: 0.9562\n",
      "Epoch 4/10\n",
      "16640/16640 [==============================] - 15s 885us/step - loss: 0.0901 - accuracy: 0.9659\n",
      "Epoch 5/10\n",
      "16640/16640 [==============================] - 15s 899us/step - loss: 0.0688 - accuracy: 0.9758\n",
      "Epoch 6/10\n",
      "16640/16640 [==============================] - 15s 879us/step - loss: 0.0541 - accuracy: 0.9825\n",
      "Epoch 7/10\n",
      "16640/16640 [==============================] - 15s 881us/step - loss: 0.0401 - accuracy: 0.9867\n",
      "Epoch 8/10\n",
      "16640/16640 [==============================] - 13s 809us/step - loss: 0.0283 - accuracy: 0.9910\n",
      "Epoch 9/10\n",
      "16640/16640 [==============================] - 13s 775us/step - loss: 0.0234 - accuracy: 0.9928\n",
      "Epoch 10/10\n",
      "16640/16640 [==============================] - 14s 830us/step - loss: 0.0211 - accuracy: 0.9936\n",
      "4160/4160 [==============================] - 1s 285us/step\n",
      "Epoch 1/10\n",
      "16640/16640 [==============================] - 17s 1ms/step - loss: 0.3814 - accuracy: 0.8361\n",
      "Epoch 2/10\n",
      "16640/16640 [==============================] - 17s 1ms/step - loss: 0.1551 - accuracy: 0.9379\n",
      "Epoch 3/10\n",
      "16640/16640 [==============================] - 16s 985us/step - loss: 0.1101 - accuracy: 0.9589\n",
      "Epoch 4/10\n",
      "16640/16640 [==============================] - 17s 1ms/step - loss: 0.0877 - accuracy: 0.9685\n",
      "Epoch 5/10\n",
      "16640/16640 [==============================] - 17s 1ms/step - loss: 0.0659 - accuracy: 0.9779\n",
      "Epoch 6/10\n",
      "16640/16640 [==============================] - 16s 988us/step - loss: 0.0495 - accuracy: 0.9837\n",
      "Epoch 7/10\n",
      "16640/16640 [==============================] - 17s 1ms/step - loss: 0.0387 - accuracy: 0.9870\n",
      "Epoch 8/10\n",
      "16640/16640 [==============================] - 16s 983us/step - loss: 0.0290 - accuracy: 0.9912\n",
      "Epoch 9/10\n",
      "16640/16640 [==============================] - 17s 1ms/step - loss: 0.0208 - accuracy: 0.9934\n",
      "Epoch 10/10\n",
      "16640/16640 [==============================] - 17s 1ms/step - loss: 0.0194 - accuracy: 0.9944\n",
      "4160/4160 [==============================] - 1s 332us/step\n",
      "Epoch 1/10\n",
      "16640/16640 [==============================] - 18s 1ms/step - loss: 0.3688 - accuracy: 0.8320\n",
      "Epoch 2/10\n",
      "16640/16640 [==============================] - 17s 1ms/step - loss: 0.1511 - accuracy: 0.9389\n",
      "Epoch 3/10\n",
      "16640/16640 [==============================] - 15s 929us/step - loss: 0.1053 - accuracy: 0.9611\n",
      "Epoch 4/10\n",
      "16640/16640 [==============================] - 18s 1ms/step - loss: 0.0787 - accuracy: 0.9730\n",
      "Epoch 5/10\n",
      "16640/16640 [==============================] - 18s 1ms/step - loss: 0.0582 - accuracy: 0.9819\n",
      "Epoch 6/10\n",
      "16640/16640 [==============================] - 17s 1ms/step - loss: 0.0456 - accuracy: 0.9856\n",
      "Epoch 7/10\n",
      "16640/16640 [==============================] - 16s 934us/step - loss: 0.0350 - accuracy: 0.9894\n",
      "Epoch 8/10\n",
      "16640/16640 [==============================] - 16s 941us/step - loss: 0.0254 - accuracy: 0.9922\n",
      "Epoch 9/10\n",
      "16640/16640 [==============================] - 16s 956us/step - loss: 0.0224 - accuracy: 0.9931\n",
      "Epoch 10/10\n",
      "16640/16640 [==============================] - 16s 934us/step - loss: 0.0216 - accuracy: 0.9935\n",
      "4160/4160 [==============================] - 1s 304us/step\n",
      "Epoch 1/10\n",
      "16640/16640 [==============================] - 16s 973us/step - loss: 0.3727 - accuracy: 0.8317\n",
      "Epoch 2/10\n",
      "16640/16640 [==============================] - 15s 907us/step - loss: 0.1476 - accuracy: 0.9421\n",
      "Epoch 3/10\n",
      "16640/16640 [==============================] - 15s 916us/step - loss: 0.1071 - accuracy: 0.9592\n",
      "Epoch 4/10\n",
      "16640/16640 [==============================] - 15s 891us/step - loss: 0.0794 - accuracy: 0.9721\n",
      "Epoch 5/10\n",
      "16640/16640 [==============================] - 16s 932us/step - loss: 0.0600 - accuracy: 0.9790\n",
      "Epoch 6/10\n",
      "16640/16640 [==============================] - 15s 896us/step - loss: 0.0488 - accuracy: 0.9828\n",
      "Epoch 7/10\n",
      "16640/16640 [==============================] - 15s 890us/step - loss: 0.0352 - accuracy: 0.9879\n",
      "Epoch 8/10\n",
      "16640/16640 [==============================] - 15s 897us/step - loss: 0.0238 - accuracy: 0.9921\n",
      "Epoch 9/10\n",
      "16640/16640 [==============================] - 18s 1ms/step - loss: 0.0194 - accuracy: 0.9941\n",
      "Epoch 10/10\n",
      "16640/16640 [==============================] - 12s 737us/step - loss: 0.0300 - accuracy: 0.9899\n",
      "4160/4160 [==============================] - 1s 283us/step\n",
      "Epoch 1/10\n",
      "16640/16640 [==============================] - 578s 35ms/step - loss: 0.3820 - accuracy: 0.8403\n",
      "Epoch 2/10\n",
      "16640/16640 [==============================] - 12s 751us/step - loss: 0.1488 - accuracy: 0.9424\n",
      "Epoch 3/10\n",
      "16640/16640 [==============================] - 10s 630us/step - loss: 0.1020 - accuracy: 0.9627\n",
      "Epoch 4/10\n",
      "16640/16640 [==============================] - 11s 649us/step - loss: 0.0741 - accuracy: 0.9745\n",
      "Epoch 5/10\n",
      "16640/16640 [==============================] - 13s 757us/step - loss: 0.0543 - accuracy: 0.9817\n",
      "Epoch 6/10\n",
      "16640/16640 [==============================] - 11s 677us/step - loss: 0.0407 - accuracy: 0.9862\n",
      "Epoch 7/10\n",
      "16640/16640 [==============================] - 11s 663us/step - loss: 0.0316 - accuracy: 0.9890\n",
      "Epoch 8/10\n",
      "16640/16640 [==============================] - 11s 660us/step - loss: 0.0200 - accuracy: 0.9931\n",
      "Epoch 9/10\n",
      "16640/16640 [==============================] - 14s 866us/step - loss: 0.0160 - accuracy: 0.9953\n",
      "Epoch 10/10\n",
      "16640/16640 [==============================] - 16s 952us/step - loss: 0.0154 - accuracy: 0.9957\n",
      "4160/4160 [==============================] - 2s 401us/step\n",
      "Epoch 1/10\n",
      "16640/16640 [==============================] - 19s 1ms/step - loss: 0.5039 - accuracy: 0.7714\n",
      "Epoch 2/10\n",
      "16640/16640 [==============================] - 19s 1ms/step - loss: 0.1993 - accuracy: 0.9201\n",
      "Epoch 3/10\n",
      "16640/16640 [==============================] - 19s 1ms/step - loss: 0.1290 - accuracy: 0.9499\n",
      "Epoch 4/10\n",
      "16640/16640 [==============================] - 18s 1ms/step - loss: 0.0979 - accuracy: 0.9645\n",
      "Epoch 5/10\n",
      "16640/16640 [==============================] - 17s 1ms/step - loss: 0.0737 - accuracy: 0.9736\n",
      "Epoch 6/10\n",
      "16640/16640 [==============================] - 18s 1ms/step - loss: 0.0576 - accuracy: 0.9806\n",
      "Epoch 7/10\n",
      "16640/16640 [==============================] - 17s 1ms/step - loss: 0.0437 - accuracy: 0.9863\n",
      "Epoch 8/10\n",
      "16640/16640 [==============================] - 18s 1ms/step - loss: 0.0315 - accuracy: 0.9907\n",
      "Epoch 9/10\n",
      "16640/16640 [==============================] - 18s 1ms/step - loss: 0.0249 - accuracy: 0.9919\n",
      "Epoch 10/10\n",
      "16640/16640 [==============================] - 17s 1ms/step - loss: 0.0197 - accuracy: 0.9944\n",
      "4160/4160 [==============================] - 2s 384us/step\n",
      "Epoch 1/10\n",
      "16640/16640 [==============================] - 21s 1ms/step - loss: 0.5557 - accuracy: 0.7305\n",
      "Epoch 2/10\n",
      "16640/16640 [==============================] - 20s 1ms/step - loss: 0.2215 - accuracy: 0.9139\n",
      "Epoch 3/10\n",
      "16640/16640 [==============================] - 20s 1ms/step - loss: 0.1390 - accuracy: 0.9469\n",
      "Epoch 4/10\n",
      "16640/16640 [==============================] - 18s 1ms/step - loss: 0.1075 - accuracy: 0.9603\n",
      "Epoch 5/10\n",
      "16640/16640 [==============================] - 23s 1ms/step - loss: 0.0854 - accuracy: 0.9702\n",
      "Epoch 6/10\n",
      "16640/16640 [==============================] - 35s 2ms/step - loss: 0.0664 - accuracy: 0.9770\n",
      "Epoch 7/10\n",
      "16640/16640 [==============================] - 36s 2ms/step - loss: 0.0505 - accuracy: 0.9835\n",
      "Epoch 8/10\n",
      "16640/16640 [==============================] - 36s 2ms/step - loss: 0.0393 - accuracy: 0.9871\n",
      "Epoch 9/10\n"
     ]
    },
    {
     "name": "stdout",
     "output_type": "stream",
     "text": [
      "16640/16640 [==============================] - 37s 2ms/step - loss: 0.0329 - accuracy: 0.9898\n",
      "Epoch 10/10\n",
      "16640/16640 [==============================] - 38s 2ms/step - loss: 0.0232 - accuracy: 0.9927\n",
      "4160/4160 [==============================] - 5s 1ms/step\n",
      "Epoch 1/10\n",
      "16640/16640 [==============================] - 41s 2ms/step - loss: 0.5548 - accuracy: 0.7395\n",
      "Epoch 2/10\n",
      "16640/16640 [==============================] - 21s 1ms/step - loss: 0.2321 - accuracy: 0.9119\n",
      "Epoch 3/10\n",
      "16640/16640 [==============================] - 21s 1ms/step - loss: 0.1414 - accuracy: 0.9458\n",
      "Epoch 4/10\n",
      "16640/16640 [==============================] - 21s 1ms/step - loss: 0.1038 - accuracy: 0.9626\n",
      "Epoch 5/10\n",
      "16640/16640 [==============================] - 21s 1ms/step - loss: 0.0837 - accuracy: 0.9716\n",
      "Epoch 6/10\n",
      "16640/16640 [==============================] - 21s 1ms/step - loss: 0.0631 - accuracy: 0.9809\n",
      "Epoch 7/10\n",
      "16640/16640 [==============================] - 21s 1ms/step - loss: 0.0495 - accuracy: 0.9839\n",
      "Epoch 8/10\n",
      "16640/16640 [==============================] - 21s 1ms/step - loss: 0.0388 - accuracy: 0.9879\n",
      "Epoch 9/10\n",
      "16640/16640 [==============================] - 20s 1ms/step - loss: 0.0291 - accuracy: 0.9913\n",
      "Epoch 10/10\n",
      "16640/16640 [==============================] - 19s 1ms/step - loss: 0.0249 - accuracy: 0.9928\n",
      "4160/4160 [==============================] - 2s 401us/step\n",
      "Epoch 1/10\n",
      "16640/16640 [==============================] - 21s 1ms/step - loss: 0.5454 - accuracy: 0.7597\n",
      "Epoch 2/10\n",
      "16640/16640 [==============================] - 20s 1ms/step - loss: 0.2142 - accuracy: 0.9159\n",
      "Epoch 3/10\n",
      "16640/16640 [==============================] - 21s 1ms/step - loss: 0.1390 - accuracy: 0.9463\n",
      "Epoch 4/10\n",
      "16640/16640 [==============================] - 20s 1ms/step - loss: 0.1097 - accuracy: 0.9601\n",
      "Epoch 5/10\n",
      "16640/16640 [==============================] - 20s 1ms/step - loss: 0.0858 - accuracy: 0.9694\n",
      "Epoch 6/10\n",
      "16640/16640 [==============================] - 20s 1ms/step - loss: 0.0703 - accuracy: 0.9759\n",
      "Epoch 7/10\n",
      "16640/16640 [==============================] - 22s 1ms/step - loss: 0.0600 - accuracy: 0.9802\n",
      "Epoch 8/10\n",
      "16640/16640 [==============================] - 20s 1ms/step - loss: 0.0452 - accuracy: 0.9852\n",
      "Epoch 9/10\n",
      "16640/16640 [==============================] - 11s 646us/step - loss: 0.0352 - accuracy: 0.9889\n",
      "Epoch 10/10\n",
      "16640/16640 [==============================] - 11s 672us/step - loss: 0.0295 - accuracy: 0.9902\n",
      "4160/4160 [==============================] - 1s 344us/step\n",
      "Epoch 1/10\n",
      "16640/16640 [==============================] - 11s 670us/step - loss: 0.5014 - accuracy: 0.7573\n",
      "Epoch 2/10\n",
      "16640/16640 [==============================] - 11s 653us/step - loss: 0.1940 - accuracy: 0.9236\n",
      "Epoch 3/10\n",
      "16640/16640 [==============================] - 11s 651us/step - loss: 0.1223 - accuracy: 0.9541\n",
      "Epoch 4/10\n",
      "16640/16640 [==============================] - 11s 644us/step - loss: 0.0930 - accuracy: 0.9662\n",
      "Epoch 5/10\n",
      "16640/16640 [==============================] - 11s 642us/step - loss: 0.0674 - accuracy: 0.9777\n",
      "Epoch 6/10\n",
      "16640/16640 [==============================] - 11s 651us/step - loss: 0.0520 - accuracy: 0.9824\n",
      "Epoch 7/10\n",
      "16640/16640 [==============================] - 11s 662us/step - loss: 0.0388 - accuracy: 0.9874\n",
      "Epoch 8/10\n",
      "16640/16640 [==============================] - 11s 642us/step - loss: 0.0313 - accuracy: 0.9889\n",
      "Epoch 9/10\n",
      "16640/16640 [==============================] - 10s 624us/step - loss: 0.0241 - accuracy: 0.9927\n",
      "Epoch 10/10\n",
      "16640/16640 [==============================] - 10s 628us/step - loss: 0.0194 - accuracy: 0.9942\n",
      "4160/4160 [==============================] - 1s 216us/step\n",
      "Epoch 1/10\n",
      "20800/20800 [==============================] - 14s 694us/step - loss: 0.3541 - accuracy: 0.8514\n",
      "Epoch 2/10\n",
      "20800/20800 [==============================] - 14s 664us/step - loss: 0.1492 - accuracy: 0.9405\n",
      "Epoch 3/10\n",
      "20800/20800 [==============================] - 14s 662us/step - loss: 0.1118 - accuracy: 0.9573\n",
      "Epoch 4/10\n",
      "20800/20800 [==============================] - 15s 734us/step - loss: 0.0852 - accuracy: 0.9690\n",
      "Epoch 5/10\n",
      "20800/20800 [==============================] - 17s 821us/step - loss: 0.0662 - accuracy: 0.9766\n",
      "Epoch 6/10\n",
      "20800/20800 [==============================] - 16s 758us/step - loss: 0.0509 - accuracy: 0.9835\n",
      "Epoch 7/10\n",
      "20800/20800 [==============================] - 15s 730us/step - loss: 0.0410 - accuracy: 0.9861\n",
      "Epoch 8/10\n",
      "20800/20800 [==============================] - 16s 757us/step - loss: 0.0314 - accuracy: 0.9899\n",
      "Epoch 9/10\n",
      "20800/20800 [==============================] - 15s 724us/step - loss: 0.0320 - accuracy: 0.9897\n",
      "Epoch 10/10\n",
      "20800/20800 [==============================] - 14s 671us/step - loss: 0.0209 - accuracy: 0.9937\n"
     ]
    }
   ],
   "source": [
    "model = KerasClassifier(build_fn=create_model)\n",
    "\n",
    "layers = [(100,),(50,50),(50,100,100,50)]\n",
    "\n",
    "param_grid = dict(layers=layers,batch_size=[128,256],epochs=[10])\n",
    "grid = GridSearchCV(estimator=model, param_grid=param_grid,cv=5)\n",
    "\n",
    "grid_result = grid.fit(X,y)"
   ]
  },
  {
   "cell_type": "code",
   "execution_count": 38,
   "metadata": {},
   "outputs": [],
   "source": [
    "##### we will check classification report and confusion matrix for calculating accuracy\n",
    "from sklearn.metrics import classification_report,confusion_matrix"
   ]
  },
  {
   "cell_type": "code",
   "execution_count": 39,
   "metadata": {},
   "outputs": [],
   "source": [
    "best_param = grid_result.best_params_\n",
    "\n",
    "# predict output\n",
    "y_pred = grid_result.predict(X_test)"
   ]
  },
  {
   "cell_type": "code",
   "execution_count": 40,
   "metadata": {},
   "outputs": [
    {
     "name": "stdout",
     "output_type": "stream",
     "text": [
      "[[3441    8]\n",
      " [  14 3401]]\n",
      "              precision    recall  f1-score   support\n",
      "\n",
      "           0       1.00      1.00      1.00      3449\n",
      "           1       1.00      1.00      1.00      3415\n",
      "\n",
      "    accuracy                           1.00      6864\n",
      "   macro avg       1.00      1.00      1.00      6864\n",
      "weighted avg       1.00      1.00      1.00      6864\n",
      "\n"
     ]
    }
   ],
   "source": [
    "print(confusion_matrix(y_test,y_pred))\n",
    "print(classification_report(y_test,y_pred))"
   ]
  },
  {
   "cell_type": "code",
   "execution_count": 41,
   "metadata": {},
   "outputs": [
    {
     "data": {
      "text/plain": [
       "{'batch_size': 128, 'epochs': 10, 'layers': (100,)}"
      ]
     },
     "execution_count": 41,
     "metadata": {},
     "output_type": "execute_result"
    }
   ],
   "source": [
    "best_param"
   ]
  },
  {
   "cell_type": "code",
   "execution_count": 42,
   "metadata": {},
   "outputs": [
    {
     "data": {
      "text/plain": [
       "[1,\n",
       " 1,\n",
       " 0,\n",
       " 0,\n",
       " 1,\n",
       " 0,\n",
       " 1,\n",
       " 1,\n",
       " 1,\n",
       " 1,\n",
       " 0,\n",
       " 0,\n",
       " 1,\n",
       " 0,\n",
       " 1,\n",
       " 1,\n",
       " 1,\n",
       " 1,\n",
       " 1,\n",
       " 0,\n",
       " 0,\n",
       " 0,\n",
       " 1,\n",
       " 1,\n",
       " 1,\n",
       " 1,\n",
       " 0,\n",
       " 0,\n",
       " 0,\n",
       " 0,\n",
       " 1,\n",
       " 1,\n",
       " 1,\n",
       " 1,\n",
       " 1,\n",
       " 1,\n",
       " 1,\n",
       " 1,\n",
       " 1,\n",
       " 1,\n",
       " 0,\n",
       " 0,\n",
       " 0,\n",
       " 0,\n",
       " 1,\n",
       " 1,\n",
       " 0,\n",
       " 1,\n",
       " 0,\n",
       " 1,\n",
       " 1,\n",
       " 1,\n",
       " 0,\n",
       " 0,\n",
       " 0,\n",
       " 0,\n",
       " 1,\n",
       " 1,\n",
       " 0,\n",
       " 0,\n",
       " 1,\n",
       " 0,\n",
       " 0,\n",
       " 0,\n",
       " 0,\n",
       " 1,\n",
       " 0,\n",
       " 0,\n",
       " 0,\n",
       " 0,\n",
       " 1,\n",
       " 1,\n",
       " 0,\n",
       " 0,\n",
       " 0,\n",
       " 1,\n",
       " 1,\n",
       " 0,\n",
       " 1,\n",
       " 1,\n",
       " 1,\n",
       " 0,\n",
       " 1,\n",
       " 0,\n",
       " 1,\n",
       " 1,\n",
       " 1,\n",
       " 0,\n",
       " 0,\n",
       " 0,\n",
       " 0,\n",
       " 1,\n",
       " 1,\n",
       " 1,\n",
       " 1,\n",
       " 1,\n",
       " 1,\n",
       " 0,\n",
       " 1,\n",
       " 0,\n",
       " 1,\n",
       " 1,\n",
       " 1,\n",
       " 0,\n",
       " 0,\n",
       " 1,\n",
       " 1,\n",
       " 1,\n",
       " 0,\n",
       " 1,\n",
       " 1,\n",
       " 0,\n",
       " 1,\n",
       " 0,\n",
       " 1,\n",
       " 0,\n",
       " 1,\n",
       " 0,\n",
       " 0,\n",
       " 1,\n",
       " 1,\n",
       " 1,\n",
       " 1,\n",
       " 0,\n",
       " 0,\n",
       " 1,\n",
       " 1,\n",
       " 0,\n",
       " 0,\n",
       " 0,\n",
       " 0,\n",
       " 0,\n",
       " 0,\n",
       " 0,\n",
       " 0,\n",
       " 0,\n",
       " 0,\n",
       " 0,\n",
       " 1,\n",
       " 0,\n",
       " 0,\n",
       " 0,\n",
       " 1,\n",
       " 0,\n",
       " 0,\n",
       " 0,\n",
       " 0,\n",
       " 0,\n",
       " 1,\n",
       " 0,\n",
       " 0,\n",
       " 1,\n",
       " 1,\n",
       " 1,\n",
       " 0,\n",
       " 0,\n",
       " 1,\n",
       " 0,\n",
       " 0,\n",
       " 0,\n",
       " 1,\n",
       " 1,\n",
       " 1,\n",
       " 0,\n",
       " 1,\n",
       " 1,\n",
       " 0,\n",
       " 1,\n",
       " 1,\n",
       " 1,\n",
       " 0,\n",
       " 0,\n",
       " 0,\n",
       " 1,\n",
       " 1,\n",
       " 1,\n",
       " 1,\n",
       " 1,\n",
       " 0,\n",
       " 1,\n",
       " 0,\n",
       " 0,\n",
       " 0,\n",
       " 1,\n",
       " 0,\n",
       " 0,\n",
       " 0,\n",
       " 1,\n",
       " 0,\n",
       " 0,\n",
       " 0,\n",
       " 0,\n",
       " 0,\n",
       " 1,\n",
       " 1,\n",
       " 1,\n",
       " 1,\n",
       " 1,\n",
       " 0,\n",
       " 1,\n",
       " 1,\n",
       " 1,\n",
       " 0,\n",
       " 1,\n",
       " 0,\n",
       " 0,\n",
       " 0,\n",
       " 0,\n",
       " 0,\n",
       " 0,\n",
       " 1,\n",
       " 0,\n",
       " 0,\n",
       " 1,\n",
       " 1,\n",
       " 0,\n",
       " 1,\n",
       " 1,\n",
       " 0,\n",
       " 0,\n",
       " 0,\n",
       " 1,\n",
       " 1,\n",
       " 0,\n",
       " 1,\n",
       " 1,\n",
       " 0,\n",
       " 0,\n",
       " 1,\n",
       " 0,\n",
       " 0,\n",
       " 1,\n",
       " 0,\n",
       " 0,\n",
       " 0,\n",
       " 1,\n",
       " 0,\n",
       " 0,\n",
       " 1,\n",
       " 1,\n",
       " 1,\n",
       " 1,\n",
       " 0,\n",
       " 1,\n",
       " 1,\n",
       " 0,\n",
       " 1,\n",
       " 1,\n",
       " 0,\n",
       " 0,\n",
       " 0,\n",
       " 1,\n",
       " 0,\n",
       " 1,\n",
       " 0,\n",
       " 0,\n",
       " 1,\n",
       " 1,\n",
       " 0,\n",
       " 1,\n",
       " 1,\n",
       " 0,\n",
       " 1,\n",
       " 0,\n",
       " 1,\n",
       " 1,\n",
       " 0,\n",
       " 0,\n",
       " 0,\n",
       " 1,\n",
       " 1,\n",
       " 1,\n",
       " 0,\n",
       " 1,\n",
       " 0,\n",
       " 1,\n",
       " 0,\n",
       " 1,\n",
       " 0,\n",
       " 0,\n",
       " 1,\n",
       " 1,\n",
       " 1,\n",
       " 0,\n",
       " 1,\n",
       " 0,\n",
       " 1,\n",
       " 1,\n",
       " 0,\n",
       " 0,\n",
       " 0,\n",
       " 0,\n",
       " 0,\n",
       " 1,\n",
       " 0,\n",
       " 0,\n",
       " 0,\n",
       " 1,\n",
       " 0,\n",
       " 1,\n",
       " 1,\n",
       " 1,\n",
       " 1,\n",
       " 1,\n",
       " 0,\n",
       " 0,\n",
       " 1,\n",
       " 1,\n",
       " 0,\n",
       " 1,\n",
       " 1,\n",
       " 0,\n",
       " 1,\n",
       " 1,\n",
       " 0,\n",
       " 1,\n",
       " 1,\n",
       " 0,\n",
       " 0,\n",
       " 0,\n",
       " 1,\n",
       " 1,\n",
       " 1,\n",
       " 0,\n",
       " 0,\n",
       " 0,\n",
       " 0,\n",
       " 0,\n",
       " 1,\n",
       " 1,\n",
       " 1,\n",
       " 0,\n",
       " 1,\n",
       " 1,\n",
       " 0,\n",
       " 0,\n",
       " 1,\n",
       " 1,\n",
       " 1,\n",
       " 0,\n",
       " 0,\n",
       " 0,\n",
       " 0,\n",
       " 1,\n",
       " 1,\n",
       " 0,\n",
       " 1,\n",
       " 1,\n",
       " 1,\n",
       " 0,\n",
       " 1,\n",
       " 0,\n",
       " 1,\n",
       " 1,\n",
       " 0,\n",
       " 1,\n",
       " 1,\n",
       " 0,\n",
       " 0,\n",
       " 1,\n",
       " 1,\n",
       " 0,\n",
       " 1,\n",
       " 0,\n",
       " 1,\n",
       " 0,\n",
       " 0,\n",
       " 0,\n",
       " 0,\n",
       " 0,\n",
       " 1,\n",
       " 0,\n",
       " 1,\n",
       " 0,\n",
       " 1,\n",
       " 0,\n",
       " 1,\n",
       " 0,\n",
       " 0,\n",
       " 1,\n",
       " 0,\n",
       " 0,\n",
       " 1,\n",
       " 1,\n",
       " 0,\n",
       " 0,\n",
       " 0,\n",
       " 1,\n",
       " 0,\n",
       " 1,\n",
       " 0,\n",
       " 1,\n",
       " 0,\n",
       " 0,\n",
       " 0,\n",
       " 0,\n",
       " 0,\n",
       " 1,\n",
       " 1,\n",
       " 0,\n",
       " 1,\n",
       " 0,\n",
       " 0,\n",
       " 0,\n",
       " 1,\n",
       " 0,\n",
       " 1,\n",
       " 1,\n",
       " 0,\n",
       " 0,\n",
       " 0,\n",
       " 1,\n",
       " 1,\n",
       " 1,\n",
       " 0,\n",
       " 0,\n",
       " 1,\n",
       " 0,\n",
       " 0,\n",
       " 1,\n",
       " 1,\n",
       " 1,\n",
       " 0,\n",
       " 1,\n",
       " 0,\n",
       " 1,\n",
       " 0,\n",
       " 0,\n",
       " 0,\n",
       " 1,\n",
       " 1,\n",
       " 1,\n",
       " 0,\n",
       " 0,\n",
       " 0,\n",
       " 1,\n",
       " 1,\n",
       " 1,\n",
       " 0,\n",
       " 0,\n",
       " 0,\n",
       " 0,\n",
       " 1,\n",
       " 0,\n",
       " 0,\n",
       " 0,\n",
       " 0,\n",
       " 0,\n",
       " 1,\n",
       " 1,\n",
       " 1,\n",
       " 0,\n",
       " 0,\n",
       " 1,\n",
       " 1,\n",
       " 0,\n",
       " 1,\n",
       " 1,\n",
       " 0,\n",
       " 1,\n",
       " 1,\n",
       " 0,\n",
       " 0,\n",
       " 0,\n",
       " 1,\n",
       " 0,\n",
       " 0,\n",
       " 0,\n",
       " 1,\n",
       " 1,\n",
       " 0,\n",
       " 1,\n",
       " 1,\n",
       " 1,\n",
       " 1,\n",
       " 1,\n",
       " 1,\n",
       " 1,\n",
       " 1,\n",
       " 1,\n",
       " 0,\n",
       " 0,\n",
       " 0,\n",
       " 1,\n",
       " 0,\n",
       " 0,\n",
       " 0,\n",
       " 1,\n",
       " 0,\n",
       " 0,\n",
       " 1,\n",
       " 1,\n",
       " 1,\n",
       " 1,\n",
       " 1,\n",
       " 0,\n",
       " 0,\n",
       " 1,\n",
       " 1,\n",
       " 0,\n",
       " 0,\n",
       " 1,\n",
       " 1,\n",
       " 0,\n",
       " 0,\n",
       " 0,\n",
       " 1,\n",
       " 1,\n",
       " 0,\n",
       " 1,\n",
       " 1,\n",
       " 0,\n",
       " 0,\n",
       " 1,\n",
       " 0,\n",
       " 0,\n",
       " 0,\n",
       " 0,\n",
       " 1,\n",
       " 1,\n",
       " 1,\n",
       " 0,\n",
       " 1,\n",
       " 1,\n",
       " 1,\n",
       " 1,\n",
       " 1,\n",
       " 1,\n",
       " 1,\n",
       " 1,\n",
       " 0,\n",
       " 0,\n",
       " 1,\n",
       " 0,\n",
       " 1,\n",
       " 1,\n",
       " 0,\n",
       " 1,\n",
       " 0,\n",
       " 1,\n",
       " 0,\n",
       " 0,\n",
       " 1,\n",
       " 0,\n",
       " 1,\n",
       " 1,\n",
       " 1,\n",
       " 1,\n",
       " 0,\n",
       " 1,\n",
       " 1,\n",
       " 0,\n",
       " 1,\n",
       " 0,\n",
       " 0,\n",
       " 1,\n",
       " 1,\n",
       " 0,\n",
       " 1,\n",
       " 1,\n",
       " 0,\n",
       " 1,\n",
       " 1,\n",
       " 0,\n",
       " 1,\n",
       " 0,\n",
       " 1,\n",
       " 1,\n",
       " 0,\n",
       " 1,\n",
       " 0,\n",
       " 0,\n",
       " 1,\n",
       " 1,\n",
       " 0,\n",
       " 1,\n",
       " 1,\n",
       " 0,\n",
       " 0,\n",
       " 0,\n",
       " 1,\n",
       " 0,\n",
       " 0,\n",
       " 0,\n",
       " 0,\n",
       " 0,\n",
       " 0,\n",
       " 0,\n",
       " 0,\n",
       " 0,\n",
       " 1,\n",
       " 0,\n",
       " 0,\n",
       " 1,\n",
       " 0,\n",
       " 0,\n",
       " 0,\n",
       " 0,\n",
       " 1,\n",
       " 0,\n",
       " 0,\n",
       " 1,\n",
       " 1,\n",
       " 0,\n",
       " 0,\n",
       " 1,\n",
       " 0,\n",
       " 1,\n",
       " 1,\n",
       " 1,\n",
       " 1,\n",
       " 0,\n",
       " 1,\n",
       " 0,\n",
       " 0,\n",
       " 0,\n",
       " 1,\n",
       " 1,\n",
       " 0,\n",
       " 1,\n",
       " 0,\n",
       " 0,\n",
       " 0,\n",
       " 0,\n",
       " 0,\n",
       " 1,\n",
       " 1,\n",
       " 1,\n",
       " 0,\n",
       " 1,\n",
       " 1,\n",
       " 0,\n",
       " 0,\n",
       " 1,\n",
       " 1,\n",
       " 1,\n",
       " 0,\n",
       " 0,\n",
       " 1,\n",
       " 1,\n",
       " 0,\n",
       " 1,\n",
       " 0,\n",
       " 1,\n",
       " 0,\n",
       " 0,\n",
       " 0,\n",
       " 1,\n",
       " 1,\n",
       " 0,\n",
       " 0,\n",
       " 1,\n",
       " 0,\n",
       " 1,\n",
       " 1,\n",
       " 1,\n",
       " 1,\n",
       " 0,\n",
       " 0,\n",
       " 1,\n",
       " 0,\n",
       " 1,\n",
       " 1,\n",
       " 1,\n",
       " 0,\n",
       " 1,\n",
       " 0,\n",
       " 0,\n",
       " 0,\n",
       " 1,\n",
       " 0,\n",
       " 0,\n",
       " 0,\n",
       " 1,\n",
       " 0,\n",
       " 0,\n",
       " 1,\n",
       " 0,\n",
       " 0,\n",
       " 1,\n",
       " 0,\n",
       " 1,\n",
       " 1,\n",
       " 1,\n",
       " 1,\n",
       " 0,\n",
       " 0,\n",
       " 0,\n",
       " 1,\n",
       " 1,\n",
       " 0,\n",
       " 1,\n",
       " 1,\n",
       " 0,\n",
       " 0,\n",
       " 1,\n",
       " 0,\n",
       " 1,\n",
       " 1,\n",
       " 0,\n",
       " 0,\n",
       " 1,\n",
       " 1,\n",
       " 1,\n",
       " 0,\n",
       " 0,\n",
       " 0,\n",
       " 1,\n",
       " 1,\n",
       " 1,\n",
       " 0,\n",
       " 0,\n",
       " 0,\n",
       " 1,\n",
       " 1,\n",
       " 0,\n",
       " 0,\n",
       " 0,\n",
       " 0,\n",
       " 0,\n",
       " 1,\n",
       " 0,\n",
       " 1,\n",
       " 1,\n",
       " 0,\n",
       " 1,\n",
       " 1,\n",
       " 1,\n",
       " 1,\n",
       " 1,\n",
       " 0,\n",
       " 0,\n",
       " 1,\n",
       " 1,\n",
       " 1,\n",
       " 0,\n",
       " 1,\n",
       " 0,\n",
       " 1,\n",
       " 0,\n",
       " 0,\n",
       " 1,\n",
       " 0,\n",
       " 0,\n",
       " 1,\n",
       " 1,\n",
       " 0,\n",
       " 0,\n",
       " 0,\n",
       " 0,\n",
       " 1,\n",
       " 1,\n",
       " 1,\n",
       " 1,\n",
       " 1,\n",
       " 1,\n",
       " 0,\n",
       " 0,\n",
       " 1,\n",
       " 0,\n",
       " 0,\n",
       " 1,\n",
       " 0,\n",
       " 0,\n",
       " 1,\n",
       " 1,\n",
       " 1,\n",
       " 1,\n",
       " 0,\n",
       " 1,\n",
       " 0,\n",
       " 0,\n",
       " 1,\n",
       " 0,\n",
       " 1,\n",
       " 1,\n",
       " 0,\n",
       " 1,\n",
       " 0,\n",
       " 0,\n",
       " 1,\n",
       " 1,\n",
       " 1,\n",
       " 0,\n",
       " 0,\n",
       " 1,\n",
       " 0,\n",
       " 0,\n",
       " 1,\n",
       " 1,\n",
       " 0,\n",
       " 0,\n",
       " 1,\n",
       " 1,\n",
       " 0,\n",
       " 1,\n",
       " 1,\n",
       " 1,\n",
       " 1,\n",
       " 1,\n",
       " 0,\n",
       " 0,\n",
       " 1,\n",
       " 0,\n",
       " 1,\n",
       " 1,\n",
       " 0,\n",
       " 0,\n",
       " 0,\n",
       " 1,\n",
       " 1,\n",
       " 0,\n",
       " 1,\n",
       " 1,\n",
       " 1,\n",
       " 1,\n",
       " 0,\n",
       " 0,\n",
       " 1,\n",
       " 0,\n",
       " 0,\n",
       " 0,\n",
       " 1,\n",
       " 0,\n",
       " 1,\n",
       " 0,\n",
       " 1,\n",
       " 0,\n",
       " 1,\n",
       " 1,\n",
       " 1,\n",
       " 0,\n",
       " 1,\n",
       " 1,\n",
       " 1,\n",
       " 0,\n",
       " 1,\n",
       " 0,\n",
       " 0,\n",
       " 1,\n",
       " 1,\n",
       " 1,\n",
       " 0,\n",
       " 1,\n",
       " 0,\n",
       " 1,\n",
       " 0,\n",
       " 1,\n",
       " 1,\n",
       " 1,\n",
       " 0,\n",
       " 1,\n",
       " 1,\n",
       " 0,\n",
       " 0,\n",
       " 1,\n",
       " 0,\n",
       " 1,\n",
       " 1,\n",
       " 1,\n",
       " 0,\n",
       " 0,\n",
       " 0,\n",
       " 1,\n",
       " 1,\n",
       " 1,\n",
       " 1,\n",
       " 1,\n",
       " 1,\n",
       " 0,\n",
       " 0,\n",
       " 1,\n",
       " 1,\n",
       " 0,\n",
       " 1,\n",
       " 0,\n",
       " 1,\n",
       " 1,\n",
       " 0,\n",
       " 0,\n",
       " 0,\n",
       " 0,\n",
       " 1,\n",
       " 0,\n",
       " 1,\n",
       " 1,\n",
       " 1,\n",
       " 0,\n",
       " 1,\n",
       " 0,\n",
       " 0,\n",
       " 0,\n",
       " 0,\n",
       " 0,\n",
       " 0,\n",
       " 1,\n",
       " 1,\n",
       " 1,\n",
       " 1,\n",
       " 1,\n",
       " 0,\n",
       " 1,\n",
       " 0,\n",
       " 0,\n",
       " 1,\n",
       " 1,\n",
       " 0,\n",
       " 1,\n",
       " 1,\n",
       " 0,\n",
       " 1,\n",
       " 0,\n",
       " 0,\n",
       " 1,\n",
       " 1,\n",
       " 1,\n",
       " 1,\n",
       " 1,\n",
       " 0,\n",
       " 0,\n",
       " 0,\n",
       " 0,\n",
       " 0,\n",
       " 0,\n",
       " 1,\n",
       " 1,\n",
       " 1,\n",
       " 1,\n",
       " 0,\n",
       " 1,\n",
       " 1,\n",
       " 1,\n",
       " 0,\n",
       " 0,\n",
       " 0,\n",
       " 1,\n",
       " 0,\n",
       " 0,\n",
       " 1,\n",
       " 1,\n",
       " 1,\n",
       " 0,\n",
       " 0,\n",
       " 0,\n",
       " 1,\n",
       " 1,\n",
       " 1,\n",
       " 0,\n",
       " 1,\n",
       " 0,\n",
       " 0,\n",
       " 0,\n",
       " 1,\n",
       " 0,\n",
       " 1,\n",
       " 1,\n",
       " 1,\n",
       " 1,\n",
       " 0,\n",
       " 1,\n",
       " 0,\n",
       " 0,\n",
       " 0,\n",
       " 0,\n",
       " 1,\n",
       " 1,\n",
       " 1,\n",
       " 1,\n",
       " 0,\n",
       " 0,\n",
       " 0,\n",
       " 0,\n",
       " 1,\n",
       " 0,\n",
       " 1,\n",
       " 1,\n",
       " 0,\n",
       " 1,\n",
       " 0,\n",
       " 1,\n",
       " 0,\n",
       " 1,\n",
       " 0,\n",
       " 1,\n",
       " 0,\n",
       " 1,\n",
       " 1,\n",
       " 1,\n",
       " 1,\n",
       " 0,\n",
       " 0,\n",
       " 1,\n",
       " 1,\n",
       " 0,\n",
       " 0,\n",
       " 1,\n",
       " 1,\n",
       " 0,\n",
       " 1,\n",
       " 0,\n",
       " ...]"
      ]
     },
     "execution_count": 42,
     "metadata": {},
     "output_type": "execute_result"
    }
   ],
   "source": [
    "[int(i) for i in y_pred]"
   ]
  },
  {
   "cell_type": "code",
   "execution_count": 43,
   "metadata": {},
   "outputs": [
    {
     "data": {
      "text/html": [
       "<div>\n",
       "<style scoped>\n",
       "    .dataframe tbody tr th:only-of-type {\n",
       "        vertical-align: middle;\n",
       "    }\n",
       "\n",
       "    .dataframe tbody tr th {\n",
       "        vertical-align: top;\n",
       "    }\n",
       "\n",
       "    .dataframe thead th {\n",
       "        text-align: right;\n",
       "    }\n",
       "</style>\n",
       "<table border=\"1\" class=\"dataframe\">\n",
       "  <thead>\n",
       "    <tr style=\"text-align: right;\">\n",
       "      <th></th>\n",
       "      <th>id</th>\n",
       "      <th>label</th>\n",
       "    </tr>\n",
       "  </thead>\n",
       "  <tbody>\n",
       "    <tr>\n",
       "      <th>0</th>\n",
       "      <td>20800</td>\n",
       "      <td>0</td>\n",
       "    </tr>\n",
       "    <tr>\n",
       "      <th>1</th>\n",
       "      <td>20801</td>\n",
       "      <td>1</td>\n",
       "    </tr>\n",
       "    <tr>\n",
       "      <th>2</th>\n",
       "      <td>20802</td>\n",
       "      <td>0</td>\n",
       "    </tr>\n",
       "    <tr>\n",
       "      <th>3</th>\n",
       "      <td>20803</td>\n",
       "      <td>1</td>\n",
       "    </tr>\n",
       "    <tr>\n",
       "      <th>4</th>\n",
       "      <td>20804</td>\n",
       "      <td>1</td>\n",
       "    </tr>\n",
       "  </tbody>\n",
       "</table>\n",
       "</div>"
      ],
      "text/plain": [
       "      id  label\n",
       "0  20800      0\n",
       "1  20801      1\n",
       "2  20802      0\n",
       "3  20803      1\n",
       "4  20804      1"
      ]
     },
     "execution_count": 43,
     "metadata": {},
     "output_type": "execute_result"
    }
   ],
   "source": [
    "#### now we will try to fit this model on test data\n",
    "submission = pd.read_csv('submit.csv')\n",
    "submission.head(5)"
   ]
  },
  {
   "cell_type": "code",
   "execution_count": 44,
   "metadata": {},
   "outputs": [
    {
     "name": "stdout",
     "output_type": "stream",
     "text": [
      "length of submission df 5200\n",
      "length of test df (null already removed) 5200\n"
     ]
    }
   ],
   "source": [
    "print('length of submission df',len(submission))\n",
    "print('length of test df (null already removed)',len(df_test))"
   ]
  },
  {
   "cell_type": "code",
   "execution_count": 45,
   "metadata": {},
   "outputs": [],
   "source": [
    "test_df = pd.merge(df_test,submission,how='inner')[['title','label']]"
   ]
  },
  {
   "cell_type": "code",
   "execution_count": 46,
   "metadata": {},
   "outputs": [
    {
     "data": {
      "text/html": [
       "<div>\n",
       "<style scoped>\n",
       "    .dataframe tbody tr th:only-of-type {\n",
       "        vertical-align: middle;\n",
       "    }\n",
       "\n",
       "    .dataframe tbody tr th {\n",
       "        vertical-align: top;\n",
       "    }\n",
       "\n",
       "    .dataframe thead th {\n",
       "        text-align: right;\n",
       "    }\n",
       "</style>\n",
       "<table border=\"1\" class=\"dataframe\">\n",
       "  <thead>\n",
       "    <tr style=\"text-align: right;\">\n",
       "      <th></th>\n",
       "      <th>title</th>\n",
       "      <th>label</th>\n",
       "    </tr>\n",
       "  </thead>\n",
       "  <tbody>\n",
       "    <tr>\n",
       "      <th>0</th>\n",
       "      <td>Specter of Trump Loosens Tongues, if Not Purse...</td>\n",
       "      <td>0</td>\n",
       "    </tr>\n",
       "    <tr>\n",
       "      <th>1</th>\n",
       "      <td>Russian warships ready to strike terrorists ne...</td>\n",
       "      <td>1</td>\n",
       "    </tr>\n",
       "    <tr>\n",
       "      <th>2</th>\n",
       "      <td>#NoDAPL: Native American Leaders Vow to Stay A...</td>\n",
       "      <td>0</td>\n",
       "    </tr>\n",
       "    <tr>\n",
       "      <th>3</th>\n",
       "      <td>Tim Tebow Will Attempt Another Comeback, This ...</td>\n",
       "      <td>1</td>\n",
       "    </tr>\n",
       "    <tr>\n",
       "      <th>4</th>\n",
       "      <td>Keiser Report: Meme Wars (E995)</td>\n",
       "      <td>1</td>\n",
       "    </tr>\n",
       "  </tbody>\n",
       "</table>\n",
       "</div>"
      ],
      "text/plain": [
       "                                               title  label\n",
       "0  Specter of Trump Loosens Tongues, if Not Purse...      0\n",
       "1  Russian warships ready to strike terrorists ne...      1\n",
       "2  #NoDAPL: Native American Leaders Vow to Stay A...      0\n",
       "3  Tim Tebow Will Attempt Another Comeback, This ...      1\n",
       "4                    Keiser Report: Meme Wars (E995)      1"
      ]
     },
     "execution_count": 46,
     "metadata": {},
     "output_type": "execute_result"
    }
   ],
   "source": [
    "test_df.head(5)"
   ]
  },
  {
   "cell_type": "code",
   "execution_count": 47,
   "metadata": {},
   "outputs": [
    {
     "data": {
      "text/plain": [
       "<matplotlib.axes._subplots.AxesSubplot at 0x1aea5a859c8>"
      ]
     },
     "execution_count": 47,
     "metadata": {},
     "output_type": "execute_result"
    },
    {
     "data": {
      "image/png": "[encoded data removed]",
      "text/plain": [
       "<Figure size 432x288 with 1 Axes>"
      ]
     },
     "metadata": {
      "needs_background": "light"
     },
     "output_type": "display_data"
    }
   ],
   "source": [
    "sns.countplot(test_df['label'])"
   ]
  },
  {
   "cell_type": "code",
   "execution_count": 48,
   "metadata": {},
   "outputs": [],
   "source": [
    "test_clean_messages = text_analyzer(test_df['title'])"
   ]
  },
  {
   "cell_type": "code",
   "execution_count": 49,
   "metadata": {},
   "outputs": [
    {
     "name": "stdout",
     "output_type": "stream",
     "text": [
      "Max Sentence lenght in corpus is testing data 29\n"
     ]
    }
   ],
   "source": [
    "max_len = 0\n",
    "for msg in test_clean_messages:\n",
    "    msg_len = len(msg.split())\n",
    "    if msg_len > max_len:\n",
    "        max_len=msg_len\n",
    "\n",
    "print('Max Sentence lenght in corpus is testing data',max_len)"
   ]
  },
  {
   "cell_type": "code",
   "execution_count": 50,
   "metadata": {},
   "outputs": [],
   "source": [
    "# so we can set sentence lenght as set in training\n",
    "cleaned_test_word_corpus=get_embedded_corpus(voc_size,sent_len,test_clean_messages)"
   ]
  },
  {
   "cell_type": "code",
   "execution_count": 51,
   "metadata": {},
   "outputs": [
    {
     "data": {
      "text/plain": [
       "array([[   0,    0,    0,    0,    0,    0,    0,    0,    0,    0,    0,\n",
       "           0,    0,    0,    0,    0,    0,    0,    0,    0,    0,    0,\n",
       "           0,    0,    0,    0,    0,    0,    0, 1613, 2159,  160, 1774,\n",
       "         912, 3117,  526,  678, 1621, 1726, 2651],\n",
       "       [   0,    0,    0,    0,    0,    0,    0,    0,    0,    0,    0,\n",
       "           0,    0,    0,    0,    0,    0,    0,    0,    0,    0,    0,\n",
       "           0,    0,    0,    0,    0,    0,    0,    0,    0,    0,    0,\n",
       "        3069, 1215, 3598, 4905,  242, 1920, 4275],\n",
       "       [   0,    0,    0,    0,    0,    0,    0,    0,    0,    0,    0,\n",
       "           0,    0,    0,    0,    0,    0,    0,    0,    0,    0,    0,\n",
       "           0,    0,    0,    0,    0,    0,    0,    0, 1111, 3487, 3685,\n",
       "        1090, 2212,  121, 4278, 3380,  729, 4822],\n",
       "       [   0,    0,    0,    0,    0,    0,    0,    0,    0,    0,    0,\n",
       "           0,    0,    0,    0,    0,    0,    0,    0,    0,    0,    0,\n",
       "           0,    0,    0,    0,    0,    0,    0,    0,  757, 4970,   15,\n",
       "        3820, 2550, 2651, 3706, 1621, 1726, 2651],\n",
       "       [   0,    0,    0,    0,    0,    0,    0,    0,    0,    0,    0,\n",
       "           0,    0,    0,    0,    0,    0,    0,    0,    0,    0,    0,\n",
       "           0,    0,    0,    0,    0,    0,    0,    0,    0,    0,    0,\n",
       "           0,    0, 3054, 4813, 1020, 2698, 1277]])"
      ]
     },
     "execution_count": 51,
     "metadata": {},
     "output_type": "execute_result"
    }
   ],
   "source": [
    "cleaned_test_word_corpus[:5]"
   ]
  },
  {
   "cell_type": "code",
   "execution_count": 52,
   "metadata": {},
   "outputs": [],
   "source": [
    "y_pred_test = grid_result.predict(cleaned_test_word_corpus)\n",
    "#y_pred = model.predict_classes(X_test)"
   ]
  },
  {
   "cell_type": "code",
   "execution_count": 53,
   "metadata": {},
   "outputs": [
    {
     "data": {
      "text/plain": [
       "5200"
      ]
     },
     "execution_count": 53,
     "metadata": {},
     "output_type": "execute_result"
    }
   ],
   "source": [
    "len(y_pred_test)"
   ]
  },
  {
   "cell_type": "code",
   "execution_count": 54,
   "metadata": {},
   "outputs": [],
   "source": [
    "real_test_y=list(test_df['label'])"
   ]
  },
  {
   "cell_type": "code",
   "execution_count": 55,
   "metadata": {},
   "outputs": [],
   "source": [
    "y_pred_test = [int(i) for i in y_pred_test]"
   ]
  },
  {
   "cell_type": "code",
   "execution_count": 56,
   "metadata": {},
   "outputs": [
    {
     "data": {
      "text/plain": [
       "[0, 1, 0, 0, 0]"
      ]
     },
     "execution_count": 56,
     "metadata": {},
     "output_type": "execute_result"
    }
   ],
   "source": [
    "y_pred_test[:5]"
   ]
  },
  {
   "cell_type": "code",
   "execution_count": 57,
   "metadata": {},
   "outputs": [
    {
     "data": {
      "text/plain": [
       "[0, 1, 0, 1, 1]"
      ]
     },
     "execution_count": 57,
     "metadata": {},
     "output_type": "execute_result"
    }
   ],
   "source": [
    "real_test_y[:5]"
   ]
  },
  {
   "cell_type": "code",
   "execution_count": 58,
   "metadata": {},
   "outputs": [
    {
     "name": "stdout",
     "output_type": "stream",
     "text": [
      "              precision    recall  f1-score   support\n",
      "\n",
      "           0       0.59      0.66      0.62      2339\n",
      "           1       0.69      0.62      0.66      2861\n",
      "\n",
      "    accuracy                           0.64      5200\n",
      "   macro avg       0.64      0.64      0.64      5200\n",
      "weighted avg       0.65      0.64      0.64      5200\n",
      "\n"
     ]
    }
   ],
   "source": [
    "print(classification_report(real_test_y,y_pred_test))\n",
    "#print(classification_report(y_test,y_pred))"
   ]
  },
  {
   "cell_type": "code",
   "execution_count": 59,
   "metadata": {},
   "outputs": [
    {
     "name": "stdout",
     "output_type": "stream",
     "text": [
      "[[1550  789]\n",
      " [1080 1781]]\n"
     ]
    }
   ],
   "source": [
    "print(confusion_matrix(real_test_y,y_pred_test))"
   ]
  },
  {
   "cell_type": "code",
   "execution_count": 60,
   "metadata": {},
   "outputs": [],
   "source": [
    "my_submission = df_test[['id']]\n",
    "my_submission['label'] = y_pred_test\n",
    "my_submission.to_csv('my_submission.csv', index = False)"
   ]
  },
  {
   "cell_type": "code",
   "execution_count": 61,
   "metadata": {},
   "outputs": [],
   "source": [
    "#we will dump model now\n",
    "import pickle\n",
    "file_ip=open('ModelFakeClassifier.pkl','wb')\n",
    "pickle.dump(grid_result,file_ip)\n",
    "\n",
    "file_ip.close()"
   ]
  },
  {
   "cell_type": "code",
   "execution_count": null,
   "metadata": {},
   "outputs": [],
   "source": []
  }
 ],
 "metadata": {
  "kernelspec": {
   "display_name": "Python 3",
   "language": "python",
   "name": "python3"
  },
  "language_info": {
   "codemirror_mode": {
    "name": "ipython",
    "version": 3
   },
   "file_extension": ".py",
   "mimetype": "text/x-python",
   "name": "python",
   "nbconvert_exporter": "python",
   "pygments_lexer": "ipython3",
   "version": "3.7.6"
  }
 },
 "nbformat": 4,
 "nbformat_minor": 4
}
